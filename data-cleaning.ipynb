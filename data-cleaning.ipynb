{
 "cells": [
  {
   "cell_type": "code",
   "id": "initial_id",
   "metadata": {
    "collapsed": true
   },
   "source": [
    "import pandas as pd\n",
    "\n",
    "df = pd.read_csv('data/messages.csv')"
   ],
   "outputs": [],
   "execution_count": null
  },
  {
   "metadata": {},
   "cell_type": "markdown",
   "source": [
    "## Goal\n",
    "\n",
    "Goal is to split the timestamp column. I want the following in separate columns:\n",
    "- Date\n",
    "- Time\n",
    "- Read By Time"
   ],
   "id": "9f5f977e1c8cd543"
  },
  {
   "metadata": {},
   "cell_type": "code",
   "source": [
    "import re\n",
    "test = \"Jun 26, 2024  1:15:45 PM (Read by you after 3 minutes, 18 seconds)\"\n",
    "\n",
    "def SeparateTimestamp(timestamp):\n",
    "    date = re.search(r'(?:Jan|Feb|Mar|Apr|May|Jun|Jul|Aug|Sep|Oct|Nov|Dec)[\\s]\\d{2,4},\\s\\d{4}', timestamp)\n",
    "    time = re.search(r'\\d{1,2}:\\d{2}:\\d{2} (?:AM|PM)', timestamp)\n",
    "    readTimeTemp = re.search(r'\\([^)]*\\)', timestamp)\n",
    "    \n",
    "    readTime = None\n",
    "    if readTimeTemp is not None:\n",
    "        readTime = readTimeTemp.group(0)\n",
    "    \n",
    "    return date.group(0), time.group(0), readTime"
   ],
   "id": "f6d1cc622341b1b6",
   "outputs": [],
   "execution_count": null
  },
  {
   "metadata": {},
   "cell_type": "code",
   "source": "df['timestamp'] = df['timestamp'].apply(lambda x: SeparateTimestamp(x))",
   "id": "a6194083cc0ca162",
   "outputs": [],
   "execution_count": null
  },
  {
   "metadata": {},
   "cell_type": "code",
   "source": "df[['date', 'time', 'read_time']] = df['timestamp'].apply(pd.Series)",
   "id": "2f781bdc90c8df9b",
   "outputs": [],
   "execution_count": null
  },
  {
   "metadata": {},
   "cell_type": "code",
   "source": "df.drop(columns=['timestamp'], inplace=True)",
   "id": "fc9c4ab0329c4f94",
   "outputs": [],
   "execution_count": null
  },
  {
   "metadata": {},
   "cell_type": "markdown",
   "source": "### Added read_time_in_seconds for easier analysis",
   "id": "c85ea24094d70e07"
  },
  {
   "metadata": {},
   "cell_type": "code",
   "source": [
    "def ExtractTime(string):\n",
    "    time_patterns = {\n",
    "        'hour': re.compile(r'(\\d+)\\s*hour'),\n",
    "        'minute': re.compile(r'(\\d+)\\s*minute'),\n",
    "        'second': re.compile(r'(\\d+)\\s*second')\n",
    "    }\n",
    "    \n",
    "    time_dict = {}\n",
    "    for unit, pattern in time_patterns.items():\n",
    "        match = pattern.search(string)\n",
    "        if match:\n",
    "            time_dict[unit] = match.group(1)\n",
    "    return time_to_seconds(time_dict)\n",
    "    \n",
    "def time_to_seconds(time_dict):\n",
    "    seconds = 0\n",
    "    if 'hour' in time_dict:\n",
    "        seconds += int(time_dict['hour']) * 3600\n",
    "    if 'minute' in time_dict:\n",
    "        seconds += int(time_dict['minute']) * 60\n",
    "    if 'second' in time_dict:\n",
    "        seconds += int(time_dict['second'])\n",
    "    return seconds\n"
   ],
   "id": "55217cfb1dcbfd7d",
   "outputs": [],
   "execution_count": null
  },
  {
   "metadata": {},
   "cell_type": "code",
   "source": "df['read_time_in_seconds'] = df['read_time'].apply(lambda x: ExtractTime(x) if (x != None) else None)",
   "id": "b9cb45e183a943a0",
   "outputs": [],
   "execution_count": null
  },
  {
   "metadata": {},
   "cell_type": "code",
   "source": [
    "df['sender'] = df['sender'].apply(lambda x: 'Me' if x == 'Me' else 'My Wife')\n",
    "df"
   ],
   "id": "2abb971e3bc94b39",
   "outputs": [],
   "execution_count": null
  },
  {
   "metadata": {},
   "cell_type": "code",
   "source": "df.to_csv('data/cleaned_messages.csv', index=False)",
   "id": "3fe7efe4f5f55d5f",
   "outputs": [],
   "execution_count": null
  },
  {
   "metadata": {},
   "cell_type": "code",
   "source": "",
   "id": "4e4c122cb5714c4f",
   "outputs": [],
   "execution_count": null
  }
 ],
 "metadata": {
  "kernelspec": {
   "display_name": "Python 3",
   "language": "python",
   "name": "python3"
  },
  "language_info": {
   "codemirror_mode": {
    "name": "ipython",
    "version": 2
   },
   "file_extension": ".py",
   "mimetype": "text/x-python",
   "name": "python",
   "nbconvert_exporter": "python",
   "pygments_lexer": "ipython2",
   "version": "2.7.6"
  }
 },
 "nbformat": 4,
 "nbformat_minor": 5
}
