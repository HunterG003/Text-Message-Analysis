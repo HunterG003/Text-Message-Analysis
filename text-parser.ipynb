{
 "cells": [
  {
   "source": [
    "import lxml.html\n",
    "from lxml.etree import tostring\n",
    "\n",
    "filename = 'texts.html'\n",
    "with open(filename, 'r') as file:  # Use a context manager for automatic file closing\n",
    "    lines = file.readlines()\n",
    "    string = ''.join(lines)\n",
    "    html = lxml.html.fromstring(string)\n",
    "print(html)"
   ],
   "cell_type": "code",
   "metadata": {
    "colab": {
     "base_uri": "https://localhost:8080/"
    },
    "id": "KbAeNGTbEy29",
    "outputId": "23c8a469-af60-4b5f-c082-c6a9dec327fd"
   },
   "id": "KbAeNGTbEy29",
   "outputs": [],
   "execution_count": null
  },
  {
   "metadata": {},
   "cell_type": "markdown",
   "source": "# All Helper Functions",
   "id": "311364e73092dfe7"
  },
  {
   "cell_type": "code",
   "source": [
    "def getTimeStamp(element):\n",
    "    els = element.find_class('timestamp')\n",
    "\n",
    "    if els:\n",
    "      return els[0].text_content()\n",
    "    else:\n",
    "      return ''\n",
    "\n",
    "def getSender(element):\n",
    "    els = element.find_class('sender')\n",
    "\n",
    "    if els:\n",
    "      return els[0].text_content()\n",
    "    else:\n",
    "      return ''\n",
    "\n",
    "def getMessage(element):\n",
    "    els = element.find_class('bubble')\n",
    "\n",
    "    if els:\n",
    "      return els[0].text_content()\n",
    "    else:\n",
    "      return ''\n",
    "\n",
    "def getReaction(element):\n",
    "    els = element.find_class('reaction')\n",
    "\n",
    "    if els:\n",
    "      return els[0].text_content()\n",
    "    else:\n",
    "      return ''\n",
    "\n",
    "def getEditedElement(element):\n",
    "    els = element.find_class('edited')\n",
    "\n",
    "    if els:\n",
    "      return els[0].text_content()\n",
    "    else:\n",
    "      return ''\n",
    "\n",
    "def hasAttachments(element):\n",
    "    els = element.find_class('attachment')\n",
    "\n",
    "    if els:\n",
    "      return True\n",
    "    else:\n",
    "      return False\n",
    "\n",
    "def getAttachmentLinks(element):\n",
    "    image_element = element.find_class('attachment')\n",
    "\n",
    "    if image_element:\n",
    "      l = []\n",
    "      for element in image_element:\n",
    "        img = element.find('img')\n",
    "        video_element = element.find('.//video')\n",
    "        audio_element = element.find('.//audio')\n",
    "        attachment = element.find('a')\n",
    "\n",
    "        if img is not None:\n",
    "          l.append(img.get('src'))\n",
    "        elif video_element is not None:\n",
    "          source_element = video_element.find('.//source')\n",
    "          l.append(source_element.get('src'))\n",
    "        elif attachment is not None:\n",
    "          l.append(attachment.get('href'))\n",
    "        elif audio_element is not None:\n",
    "          l.append(audio_element.get('src'))\n",
    "        else:\n",
    "          print(tostring(element))\n",
    "\n",
    "      return l\n",
    "    else:\n",
    "      return ''\n",
    "\n",
    "def getReplyAnchor(element):\n",
    "    els = element.find_class('reply_anchor')\n",
    "\n",
    "    if els:\n",
    "      return els[0].find('a').get('href')\n",
    "    else:\n",
    "      return ''\n",
    "\n",
    "def getAppSent(element):\n",
    "    els = element.find_class('app')\n",
    "\n",
    "    if els:\n",
    "      return els[0].text_content()\n",
    "    else:\n",
    "      return ''"
   ],
   "metadata": {
    "id": "277dQGv3HQru"
   },
   "id": "277dQGv3HQru",
   "outputs": [],
   "execution_count": null
  },
  {
   "cell_type": "code",
   "source": [
    "class Message:\n",
    "    def __init__(self, timestamp, sender, message, reaction, edits, attachmentLinks, replyAnchor, appSent):\n",
    "        self.timestamp = timestamp\n",
    "        self.sender = sender\n",
    "        self.message = message\n",
    "        self.reaction = reaction\n",
    "        self.edits = edits\n",
    "        self.attachmentLinks = attachmentLinks\n",
    "        self.replyAnchor = replyAnchor\n",
    "        self.appSent = appSent\n",
    "\n",
    "    def toDict(self):\n",
    "        return {\n",
    "            'timestamp': self.timestamp,\n",
    "            'sender': self.sender,\n",
    "            'message': self.message,\n",
    "            'reaction': self.reaction,\n",
    "            'edits': self.edits,\n",
    "            'attachmentLinks': self.attachmentLinks,\n",
    "            'replyAnchor': self.replyAnchor,\n",
    "            'appSent': self.appSent\n",
    "        }"
   ],
   "metadata": {
    "id": "AthfxUp1jHzs"
   },
   "id": "AthfxUp1jHzs",
   "outputs": [],
   "execution_count": null
  },
  {
   "metadata": {},
   "cell_type": "markdown",
   "source": "# Parse All Messages",
   "id": "bb313f007b7a6fa3"
  },
  {
   "metadata": {
    "id": "13b7f75e90c95c43"
   },
   "cell_type": "code",
   "source": [
    "messages = html.find_class('message')\n",
    "\n",
    "message_list = []\n",
    "\n",
    "for message in messages:\n",
    "    message_list.append(Message(\n",
    "        getTimeStamp(message),\n",
    "        getSender(message),\n",
    "        getMessage(message),\n",
    "        getReaction(message),\n",
    "        getEditedElement(message),\n",
    "        getAttachmentLinks(message),\n",
    "        getReplyAnchor(message),\n",
    "        getAppSent(message)\n",
    "        ))"
   ],
   "id": "13b7f75e90c95c43",
   "outputs": [],
   "execution_count": null
  },
  {
   "metadata": {},
   "cell_type": "markdown",
   "source": "# Import Into Dataframe and Save to CSV",
   "id": "2e256d7e6b193fb3"
  },
  {
   "cell_type": "code",
   "source": [
    "import pandas as pd\n",
    "df = pd.DataFrame(x.toDict() for x in message_list)"
   ],
   "metadata": {
    "colab": {
     "base_uri": "https://localhost:8080/",
     "height": 275
    },
    "id": "Aw1dtwa7jBKv",
    "outputId": "5eb76207-353d-44ac-9e57-27fa0f0871d9"
   },
   "id": "Aw1dtwa7jBKv",
   "outputs": [],
   "execution_count": null
  },
  {
   "cell_type": "code",
   "source": [
    "df.to_csv('messages.csv', index=False)"
   ],
   "metadata": {
    "id": "brBZp9DYjvK4"
   },
   "id": "brBZp9DYjvK4",
   "outputs": [],
   "execution_count": null
  }
 ],
 "metadata": {
  "kernelspec": {
   "display_name": "Python 3",
   "language": "python",
   "name": "python3"
  },
  "language_info": {
   "codemirror_mode": {
    "name": "ipython",
    "version": 2
   },
   "file_extension": ".py",
   "mimetype": "text/x-python",
   "name": "python",
   "nbconvert_exporter": "python",
   "pygments_lexer": "ipython2",
   "version": "2.7.6"
  },
  "colab": {
   "provenance": []
  }
 },
 "nbformat": 4,
 "nbformat_minor": 5
}
