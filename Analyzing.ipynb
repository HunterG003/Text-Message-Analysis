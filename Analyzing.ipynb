{
 "cells": [
  {
   "cell_type": "code",
   "id": "initial_id",
   "metadata": {
    "collapsed": true,
    "ExecuteTime": {
     "end_time": "2024-07-18T02:44:06.336602Z",
     "start_time": "2024-07-18T02:44:05.889743Z"
    }
   },
   "source": [
    "import pandas as pd\n",
    "\n",
    "df = pd.read_csv('data/cleaned_messages.csv')"
   ],
   "outputs": [],
   "execution_count": 12
  },
  {
   "metadata": {},
   "cell_type": "markdown",
   "source": [
    "# Find Average Read Time\n",
    "Here we will find the average time it takes me to read a message. We will only do my side because the data for my wife's response time is mostly not there"
   ],
   "id": "8016032e662ddeff"
  },
  {
   "metadata": {
    "ExecuteTime": {
     "end_time": "2024-07-18T02:44:06.364283Z",
     "start_time": "2024-07-18T02:44:06.338646Z"
    }
   },
   "cell_type": "code",
   "source": [
    "me_df = df[df.sender == 'Me']\n",
    "me_df['read_time_in_seconds'].mean()"
   ],
   "id": "4b5335ee81733d27",
   "outputs": [
    {
     "data": {
      "text/plain": [
       "np.float64(4.410355029585799)"
      ]
     },
     "execution_count": 13,
     "metadata": {},
     "output_type": "execute_result"
    }
   ],
   "execution_count": 13
  },
  {
   "metadata": {},
   "cell_type": "markdown",
   "source": [
    "## Average Read Time\n",
    "The average read time for me is 4.41 seconds"
   ],
   "id": "c0502740bb0b0326"
  },
  {
   "metadata": {},
   "cell_type": "markdown",
   "source": "# Find Average Response Time",
   "id": "a7776c178ee7cf30"
  },
  {
   "metadata": {
    "ExecuteTime": {
     "end_time": "2024-07-18T02:44:06.854428Z",
     "start_time": "2024-07-18T02:44:06.370103Z"
    }
   },
   "cell_type": "code",
   "source": [
    "calc_df = df.copy()\n",
    "calc_df['timestamp'] = pd.to_datetime(calc_df['date'] + ' ' + calc_df['time'])\n",
    "calc_df['time_difference'] = calc_df['timestamp'].diff()\n",
    "calc_df.head()"
   ],
   "id": "6e2a4b5b3ca97e9b",
   "outputs": [
    {
     "data": {
      "text/plain": [
       "    sender                                            message reaction edits  \\\n",
       "0       Me                       You're coming tonight right?      NaN   NaN   \n",
       "1  My Wife                      yeah i think i'm going to lol      NaN   NaN   \n",
       "2       Me             You think?! Nah you're for sure coming      NaN   NaN   \n",
       "3  My Wife  wow peer pressure over here, geez guess i will go      NaN   NaN   \n",
       "4       Me                     That's what I like to hear lol      NaN   NaN   \n",
       "\n",
       "  attachmentLinks replyAnchor appSent          date         time  \\\n",
       "0             NaN         NaN     NaN  Sep 28, 2021  10:21:18 AM   \n",
       "1             NaN         NaN     NaN  Sep 28, 2021  10:21:30 AM   \n",
       "2             NaN         NaN     NaN  Sep 28, 2021  10:21:46 AM   \n",
       "3             NaN         NaN     NaN  Sep 28, 2021  10:22:20 AM   \n",
       "4             NaN         NaN     NaN  Sep 28, 2021  10:22:54 AM   \n",
       "\n",
       "                       read_time  read_time_in_seconds           timestamp  \\\n",
       "0  (Read by them after 1 second)                   1.0 2021-09-28 10:21:18   \n",
       "1   (Read by you after 1 second)                   1.0 2021-09-28 10:21:30   \n",
       "2                            NaN                   NaN 2021-09-28 10:21:46   \n",
       "3  (Read by you after 9 seconds)                   9.0 2021-09-28 10:22:20   \n",
       "4  (Read by them after 1 second)                   1.0 2021-09-28 10:22:54   \n",
       "\n",
       "  time_difference  \n",
       "0             NaT  \n",
       "1 0 days 00:00:12  \n",
       "2 0 days 00:00:16  \n",
       "3 0 days 00:00:34  \n",
       "4 0 days 00:00:34  "
      ],
      "text/html": [
       "<div>\n",
       "<style scoped>\n",
       "    .dataframe tbody tr th:only-of-type {\n",
       "        vertical-align: middle;\n",
       "    }\n",
       "\n",
       "    .dataframe tbody tr th {\n",
       "        vertical-align: top;\n",
       "    }\n",
       "\n",
       "    .dataframe thead th {\n",
       "        text-align: right;\n",
       "    }\n",
       "</style>\n",
       "<table border=\"1\" class=\"dataframe\">\n",
       "  <thead>\n",
       "    <tr style=\"text-align: right;\">\n",
       "      <th></th>\n",
       "      <th>sender</th>\n",
       "      <th>message</th>\n",
       "      <th>reaction</th>\n",
       "      <th>edits</th>\n",
       "      <th>attachmentLinks</th>\n",
       "      <th>replyAnchor</th>\n",
       "      <th>appSent</th>\n",
       "      <th>date</th>\n",
       "      <th>time</th>\n",
       "      <th>read_time</th>\n",
       "      <th>read_time_in_seconds</th>\n",
       "      <th>timestamp</th>\n",
       "      <th>time_difference</th>\n",
       "    </tr>\n",
       "  </thead>\n",
       "  <tbody>\n",
       "    <tr>\n",
       "      <th>0</th>\n",
       "      <td>Me</td>\n",
       "      <td>You're coming tonight right?</td>\n",
       "      <td>NaN</td>\n",
       "      <td>NaN</td>\n",
       "      <td>NaN</td>\n",
       "      <td>NaN</td>\n",
       "      <td>NaN</td>\n",
       "      <td>Sep 28, 2021</td>\n",
       "      <td>10:21:18 AM</td>\n",
       "      <td>(Read by them after 1 second)</td>\n",
       "      <td>1.0</td>\n",
       "      <td>2021-09-28 10:21:18</td>\n",
       "      <td>NaT</td>\n",
       "    </tr>\n",
       "    <tr>\n",
       "      <th>1</th>\n",
       "      <td>My Wife</td>\n",
       "      <td>yeah i think i'm going to lol</td>\n",
       "      <td>NaN</td>\n",
       "      <td>NaN</td>\n",
       "      <td>NaN</td>\n",
       "      <td>NaN</td>\n",
       "      <td>NaN</td>\n",
       "      <td>Sep 28, 2021</td>\n",
       "      <td>10:21:30 AM</td>\n",
       "      <td>(Read by you after 1 second)</td>\n",
       "      <td>1.0</td>\n",
       "      <td>2021-09-28 10:21:30</td>\n",
       "      <td>0 days 00:00:12</td>\n",
       "    </tr>\n",
       "    <tr>\n",
       "      <th>2</th>\n",
       "      <td>Me</td>\n",
       "      <td>You think?! Nah you're for sure coming</td>\n",
       "      <td>NaN</td>\n",
       "      <td>NaN</td>\n",
       "      <td>NaN</td>\n",
       "      <td>NaN</td>\n",
       "      <td>NaN</td>\n",
       "      <td>Sep 28, 2021</td>\n",
       "      <td>10:21:46 AM</td>\n",
       "      <td>NaN</td>\n",
       "      <td>NaN</td>\n",
       "      <td>2021-09-28 10:21:46</td>\n",
       "      <td>0 days 00:00:16</td>\n",
       "    </tr>\n",
       "    <tr>\n",
       "      <th>3</th>\n",
       "      <td>My Wife</td>\n",
       "      <td>wow peer pressure over here, geez guess i will go</td>\n",
       "      <td>NaN</td>\n",
       "      <td>NaN</td>\n",
       "      <td>NaN</td>\n",
       "      <td>NaN</td>\n",
       "      <td>NaN</td>\n",
       "      <td>Sep 28, 2021</td>\n",
       "      <td>10:22:20 AM</td>\n",
       "      <td>(Read by you after 9 seconds)</td>\n",
       "      <td>9.0</td>\n",
       "      <td>2021-09-28 10:22:20</td>\n",
       "      <td>0 days 00:00:34</td>\n",
       "    </tr>\n",
       "    <tr>\n",
       "      <th>4</th>\n",
       "      <td>Me</td>\n",
       "      <td>That's what I like to hear lol</td>\n",
       "      <td>NaN</td>\n",
       "      <td>NaN</td>\n",
       "      <td>NaN</td>\n",
       "      <td>NaN</td>\n",
       "      <td>NaN</td>\n",
       "      <td>Sep 28, 2021</td>\n",
       "      <td>10:22:54 AM</td>\n",
       "      <td>(Read by them after 1 second)</td>\n",
       "      <td>1.0</td>\n",
       "      <td>2021-09-28 10:22:54</td>\n",
       "      <td>0 days 00:00:34</td>\n",
       "    </tr>\n",
       "  </tbody>\n",
       "</table>\n",
       "</div>"
      ]
     },
     "execution_count": 14,
     "metadata": {},
     "output_type": "execute_result"
    }
   ],
   "execution_count": 14
  },
  {
   "metadata": {
    "ExecuteTime": {
     "end_time": "2024-07-18T02:44:06.903963Z",
     "start_time": "2024-07-18T02:44:06.856826Z"
    }
   },
   "cell_type": "code",
   "source": [
    "me_df = calc_df[calc_df['sender'] == 'Me']\n",
    "wife_df = calc_df[calc_df['sender'] == 'My Wife']\n",
    "\n",
    "print(f\"My Average Response Time: {me_df['time_difference'].mean()}\")\n",
    "print(f\"My Wife's Average Response Time: {wife_df['time_difference'].mean()}\")\n",
    "print(f\"Our Combined Average Response Time: {(wife_df['time_difference'].mean() + me_df['time_difference'].mean()) / 2}\")"
   ],
   "id": "39f7bcffe9018bc2",
   "outputs": [
    {
     "name": "stdout",
     "output_type": "stream",
     "text": [
      "My Average Response Time: 0 days 00:16:52.713757615\n",
      "My Wife's Average Response Time: 0 days 00:26:58.079543698\n",
      "Our Combined Average Response Time: 0 days 00:21:55.396650656\n"
     ]
    }
   ],
   "execution_count": 15
  },
  {
   "metadata": {},
   "cell_type": "markdown",
   "source": [
    "## Average Response Times:\n",
    "\n",
    "- **Me:** 16 Minutes and 53 Seconds\n",
    "\n",
    "\n",
    "- **My Wife:** 26 Minutes and 58 Seconds \n",
    "\n",
    "\n",
    "- **Combined:** 21 Minutes and 55 Seconds"
   ],
   "id": "a59ed5c078105833"
  },
  {
   "metadata": {},
   "cell_type": "markdown",
   "source": [
    "# Message Analysis\n",
    "\n",
    "Here we are going to look at:\n",
    "\n",
    "- How many messages we each have sent\n",
    "- How many characters we each have used\n",
    "- How many words we each have used\n",
    "- How many unique words we each have used"
   ],
   "id": "cdc97c9061622c87"
  },
  {
   "metadata": {},
   "cell_type": "markdown",
   "source": "## Step 1: Messages Sent",
   "id": "f5b5aac872e4ae08"
  },
  {
   "metadata": {
    "ExecuteTime": {
     "end_time": "2024-07-18T02:44:06.969769Z",
     "start_time": "2024-07-18T02:44:06.914379Z"
    }
   },
   "cell_type": "code",
   "source": [
    "me_df = df[df['sender'] == 'Me']\n",
    "wife_df = df[df['sender'] == 'My Wife']\n",
    "\n",
    "my_count = me_df['message'].count()\n",
    "wife_count = wife_df['message'].count()\n",
    "\n",
    "print(f\"Number of messages I've sent: {my_count}\")\n",
    "print(f\"Number of messages my wife has sent: {wife_count}\")\n",
    "print(f'Number of messages we\\'ve sent in total: {my_count + wife_count}')"
   ],
   "id": "3e3ac70207bdd339",
   "outputs": [
    {
     "name": "stdout",
     "output_type": "stream",
     "text": [
      "Number of messages I've sent: 33498\n",
      "Number of messages my wife has sent: 31875\n",
      "Number of messages we've sent in total: 65373\n"
     ]
    }
   ],
   "execution_count": 16
  },
  {
   "metadata": {},
   "cell_type": "markdown",
   "source": "## Step 2: How many characters we have used",
   "id": "f104e8e7493b61b8"
  },
  {
   "metadata": {
    "ExecuteTime": {
     "end_time": "2024-07-18T02:44:07.027118Z",
     "start_time": "2024-07-18T02:44:06.973927Z"
    }
   },
   "cell_type": "code",
   "source": [
    "my_count = me_df['message'].apply(lambda x: len(str(x))).sum()\n",
    "wife_count = wife_df['message'].apply(lambda x: len(str(x))).sum()\n",
    "\n",
    "print(f'Number of characters I\\'ve used: {my_count}')\n",
    "print(f'Number of characters my wife has used: {wife_count}')\n",
    "print(f'Number of characters we\\'ve used: {my_count + wife_count}')"
   ],
   "id": "efe6a9220c09ac9d",
   "outputs": [
    {
     "name": "stdout",
     "output_type": "stream",
     "text": [
      "Number of characters I've used: 1421613\n",
      "Number of characters my wife has used: 1237373\n",
      "Number of characters we've used: 2658986\n"
     ]
    }
   ],
   "execution_count": 17
  },
  {
   "metadata": {},
   "cell_type": "markdown",
   "source": "## Step 3: Number of words used ",
   "id": "7688a1751a03437d"
  },
  {
   "metadata": {
    "ExecuteTime": {
     "end_time": "2024-07-18T02:44:07.133291Z",
     "start_time": "2024-07-18T02:44:07.028989Z"
    }
   },
   "cell_type": "code",
   "source": [
    "my_count = me_df['message'].apply(lambda x: len(str(x).split())).sum()\n",
    "wife_count = wife_df['message'].apply(lambda x: len(str(x).split())).sum()\n",
    "\n",
    "print(f'Number of words I\\'ve used: {my_count}')\n",
    "print(f'Number of words my wife has used: {wife_count}')\n",
    "print(f'Number of words we\\'ve used: {my_count + wife_count}')"
   ],
   "id": "17c8e60884ceb62d",
   "outputs": [
    {
     "name": "stdout",
     "output_type": "stream",
     "text": [
      "Number of words I've used: 291100\n",
      "Number of words my wife has used: 258687\n",
      "Number of words we've used: 549787\n"
     ]
    }
   ],
   "execution_count": 18
  },
  {
   "metadata": {},
   "cell_type": "markdown",
   "source": "## Step 4: Number of Unique Words Used",
   "id": "3c2fb4175afb7ef8"
  },
  {
   "metadata": {
    "ExecuteTime": {
     "end_time": "2024-07-18T02:44:44.917655Z",
     "start_time": "2024-07-18T02:44:07.137080Z"
    }
   },
   "cell_type": "code",
   "source": [
    "my_words = me_df['message'].apply(lambda x: str(x).split())\n",
    "my_word_list = my_words.sum()\n",
    "\n",
    "unique_list = set(my_word_list)\n",
    "\n",
    "print(f\"Number of Unique Words I've Used: {len(unique_list)}\")"
   ],
   "id": "4a0bef2f7127c304",
   "outputs": [
    {
     "name": "stdout",
     "output_type": "stream",
     "text": [
      "Number of Unique Words I've Used: 17299\n"
     ]
    }
   ],
   "execution_count": 19
  },
  {
   "metadata": {
    "ExecuteTime": {
     "end_time": "2024-07-18T02:45:21.839252Z",
     "start_time": "2024-07-18T02:44:44.921461Z"
    }
   },
   "cell_type": "code",
   "source": [
    "wife_words = wife_df['message'].apply(lambda x: str(x).split())\n",
    "wife_word_list = wife_words.sum()\n",
    "\n",
    "wife_unique_list = set(wife_word_list)\n",
    "\n",
    "print(f\"Number of Unique Words My Wife Has Used: {len(wife_unique_list)}\")"
   ],
   "id": "348e2c1485df3b49",
   "outputs": [
    {
     "name": "stdout",
     "output_type": "stream",
     "text": [
      "Number of Unique Words My Wife Has Used: 16479\n"
     ]
    }
   ],
   "execution_count": 20
  },
  {
   "metadata": {
    "ExecuteTime": {
     "end_time": "2024-07-18T02:45:21.851819Z",
     "start_time": "2024-07-18T02:45:21.840881Z"
    }
   },
   "cell_type": "code",
   "source": [
    "combined = set(wife_unique_list | unique_list)\n",
    "print(f\"Number of Unique Words between the both of us: {len(combined)}\")"
   ],
   "id": "9f76d979687efce1",
   "outputs": [
    {
     "name": "stdout",
     "output_type": "stream",
     "text": [
      "Number of Unique Words between the both of us: 25953\n"
     ]
    }
   ],
   "execution_count": 21
  },
  {
   "metadata": {},
   "cell_type": "markdown",
   "source": [
    "# Message Analysis End\n",
    "\n",
    "* Number of messages sent:\n",
    "    - **Me:** 33,498 messages\n",
    "    - **My Wife:** 31,875 messages\n",
    "    - **Combined:** 65,373 messages\n",
    "* Number of Characters Used:\n",
    "    - **Me:** 1,421,613 characters\n",
    "    - **My Wife:** 1,237,373 characters\n",
    "    - **Combined:** 2,658,986 characters\n",
    "* Number of Words Used:\n",
    "    - **Me:** 291,100 words\n",
    "    - **My Wife:** 258,687 words\n",
    "    - **Combined:** 549,787 words\n",
    "* Number of Unique Words Used:\n",
    "    - **Me:** 17,299 Unique Words\n",
    "    - **My Wife:** 16,479 Unique Words\n",
    "    - **Combined:** 25,953 Unique Words\n",
    "    "
   ],
   "id": "4dc26530ee82506a"
  },
  {
   "metadata": {},
   "cell_type": "markdown",
   "source": [
    "# Content Analysis\n",
    "\n",
    "Here I want to get how many attachments we have sent"
   ],
   "id": "9877dce9ebc73fd9"
  },
  {
   "metadata": {
    "ExecuteTime": {
     "end_time": "2024-07-18T02:45:21.872708Z",
     "start_time": "2024-07-18T02:45:21.856576Z"
    }
   },
   "cell_type": "code",
   "source": [
    "my_attachments_df = me_df[me_df['attachmentLinks'].notna()]\n",
    "my_attachments = my_attachments_df['attachmentLinks'].sum()\n",
    "print(f\"Number of attachments I've sent: {len(my_attachments)}\")\n",
    "\n",
    "wife_attachments_df = wife_df[wife_df['attachmentLinks'].notna()]\n",
    "wife_attachments = wife_attachments_df['attachmentLinks'].sum()\n",
    "print(f\"Number of attachments my wife has sent: {len(wife_attachments)}\")\n",
    "\n",
    "print(f'Number of attachments sent between the both of us: {len(my_attachments) + len(wife_attachments)}')"
   ],
   "id": "ca7483aef3803601",
   "outputs": [
    {
     "name": "stdout",
     "output_type": "stream",
     "text": [
      "Number of attachments I've sent: 22440\n",
      "Number of attachments my wife has sent: 31484\n",
      "Number of attachments sent between the both of us: 53924\n"
     ]
    }
   ],
   "execution_count": 22
  },
  {
   "metadata": {},
   "cell_type": "markdown",
   "source": [
    "# Double Texts\n",
    "I want to find how many double texts were sent between both me and my wife."
   ],
   "id": "be86038b7dba7ca4"
  },
  {
   "metadata": {
    "ExecuteTime": {
     "end_time": "2024-07-18T02:45:21.958804Z",
     "start_time": "2024-07-18T02:45:21.874844Z"
    }
   },
   "cell_type": "code",
   "source": [
    "double_texts_df = df[['sender', 'message']]\n",
    "\n",
    "double_texts_df = double_texts_df.assign(double_text=double_texts_df.sender.eq(double_texts_df.sender.shift()))\n",
    "\n",
    "print(f\"Number of time I have double texted: {double_texts_df.loc[(double_texts_df.sender == 'Me') & (double_texts_df.double_text)].double_text.count()}\")\n",
    "print(f\"Number of times my wife has double texted: {double_texts_df.loc[(double_texts_df.sender == 'Ashlyn') & (double_texts_df.double_text)].double_text.count()}\")\n",
    "print(f\"Total number of double texts: {double_texts_df.loc[(double_texts_df.double_text)].double_text.count()}\")"
   ],
   "id": "b9a98207aad07a83",
   "outputs": [
    {
     "name": "stdout",
     "output_type": "stream",
     "text": [
      "Number of time I have double texted: 6533\n",
      "Number of times my wife has double texted: 0\n",
      "Total number of double texts: 11598\n"
     ]
    }
   ],
   "execution_count": 23
  },
  {
   "metadata": {},
   "cell_type": "markdown",
   "source": [
    "# Message Times Heatmap\n",
    "\n",
    "The goal here is to create at least one heatmap on when we typically message each other "
   ],
   "id": "175f9bab70032fe6"
  },
  {
   "metadata": {
    "ExecuteTime": {
     "end_time": "2024-07-18T02:45:21.985489Z",
     "start_time": "2024-07-18T02:45:21.962498Z"
    }
   },
   "cell_type": "code",
   "source": [
    "import matplotlib.pyplot as plt\n",
    "import seaborn as sns\n",
    "\n",
    "calc_df.head()"
   ],
   "id": "4eebbb9f31e8249e",
   "outputs": [
    {
     "data": {
      "text/plain": [
       "    sender                                            message reaction edits  \\\n",
       "0       Me                       You're coming tonight right?      NaN   NaN   \n",
       "1  My Wife                      yeah i think i'm going to lol      NaN   NaN   \n",
       "2       Me             You think?! Nah you're for sure coming      NaN   NaN   \n",
       "3  My Wife  wow peer pressure over here, geez guess i will go      NaN   NaN   \n",
       "4       Me                     That's what I like to hear lol      NaN   NaN   \n",
       "\n",
       "  attachmentLinks replyAnchor appSent          date         time  \\\n",
       "0             NaN         NaN     NaN  Sep 28, 2021  10:21:18 AM   \n",
       "1             NaN         NaN     NaN  Sep 28, 2021  10:21:30 AM   \n",
       "2             NaN         NaN     NaN  Sep 28, 2021  10:21:46 AM   \n",
       "3             NaN         NaN     NaN  Sep 28, 2021  10:22:20 AM   \n",
       "4             NaN         NaN     NaN  Sep 28, 2021  10:22:54 AM   \n",
       "\n",
       "                       read_time  read_time_in_seconds           timestamp  \\\n",
       "0  (Read by them after 1 second)                   1.0 2021-09-28 10:21:18   \n",
       "1   (Read by you after 1 second)                   1.0 2021-09-28 10:21:30   \n",
       "2                            NaN                   NaN 2021-09-28 10:21:46   \n",
       "3  (Read by you after 9 seconds)                   9.0 2021-09-28 10:22:20   \n",
       "4  (Read by them after 1 second)                   1.0 2021-09-28 10:22:54   \n",
       "\n",
       "  time_difference  \n",
       "0             NaT  \n",
       "1 0 days 00:00:12  \n",
       "2 0 days 00:00:16  \n",
       "3 0 days 00:00:34  \n",
       "4 0 days 00:00:34  "
      ],
      "text/html": [
       "<div>\n",
       "<style scoped>\n",
       "    .dataframe tbody tr th:only-of-type {\n",
       "        vertical-align: middle;\n",
       "    }\n",
       "\n",
       "    .dataframe tbody tr th {\n",
       "        vertical-align: top;\n",
       "    }\n",
       "\n",
       "    .dataframe thead th {\n",
       "        text-align: right;\n",
       "    }\n",
       "</style>\n",
       "<table border=\"1\" class=\"dataframe\">\n",
       "  <thead>\n",
       "    <tr style=\"text-align: right;\">\n",
       "      <th></th>\n",
       "      <th>sender</th>\n",
       "      <th>message</th>\n",
       "      <th>reaction</th>\n",
       "      <th>edits</th>\n",
       "      <th>attachmentLinks</th>\n",
       "      <th>replyAnchor</th>\n",
       "      <th>appSent</th>\n",
       "      <th>date</th>\n",
       "      <th>time</th>\n",
       "      <th>read_time</th>\n",
       "      <th>read_time_in_seconds</th>\n",
       "      <th>timestamp</th>\n",
       "      <th>time_difference</th>\n",
       "    </tr>\n",
       "  </thead>\n",
       "  <tbody>\n",
       "    <tr>\n",
       "      <th>0</th>\n",
       "      <td>Me</td>\n",
       "      <td>You're coming tonight right?</td>\n",
       "      <td>NaN</td>\n",
       "      <td>NaN</td>\n",
       "      <td>NaN</td>\n",
       "      <td>NaN</td>\n",
       "      <td>NaN</td>\n",
       "      <td>Sep 28, 2021</td>\n",
       "      <td>10:21:18 AM</td>\n",
       "      <td>(Read by them after 1 second)</td>\n",
       "      <td>1.0</td>\n",
       "      <td>2021-09-28 10:21:18</td>\n",
       "      <td>NaT</td>\n",
       "    </tr>\n",
       "    <tr>\n",
       "      <th>1</th>\n",
       "      <td>My Wife</td>\n",
       "      <td>yeah i think i'm going to lol</td>\n",
       "      <td>NaN</td>\n",
       "      <td>NaN</td>\n",
       "      <td>NaN</td>\n",
       "      <td>NaN</td>\n",
       "      <td>NaN</td>\n",
       "      <td>Sep 28, 2021</td>\n",
       "      <td>10:21:30 AM</td>\n",
       "      <td>(Read by you after 1 second)</td>\n",
       "      <td>1.0</td>\n",
       "      <td>2021-09-28 10:21:30</td>\n",
       "      <td>0 days 00:00:12</td>\n",
       "    </tr>\n",
       "    <tr>\n",
       "      <th>2</th>\n",
       "      <td>Me</td>\n",
       "      <td>You think?! Nah you're for sure coming</td>\n",
       "      <td>NaN</td>\n",
       "      <td>NaN</td>\n",
       "      <td>NaN</td>\n",
       "      <td>NaN</td>\n",
       "      <td>NaN</td>\n",
       "      <td>Sep 28, 2021</td>\n",
       "      <td>10:21:46 AM</td>\n",
       "      <td>NaN</td>\n",
       "      <td>NaN</td>\n",
       "      <td>2021-09-28 10:21:46</td>\n",
       "      <td>0 days 00:00:16</td>\n",
       "    </tr>\n",
       "    <tr>\n",
       "      <th>3</th>\n",
       "      <td>My Wife</td>\n",
       "      <td>wow peer pressure over here, geez guess i will go</td>\n",
       "      <td>NaN</td>\n",
       "      <td>NaN</td>\n",
       "      <td>NaN</td>\n",
       "      <td>NaN</td>\n",
       "      <td>NaN</td>\n",
       "      <td>Sep 28, 2021</td>\n",
       "      <td>10:22:20 AM</td>\n",
       "      <td>(Read by you after 9 seconds)</td>\n",
       "      <td>9.0</td>\n",
       "      <td>2021-09-28 10:22:20</td>\n",
       "      <td>0 days 00:00:34</td>\n",
       "    </tr>\n",
       "    <tr>\n",
       "      <th>4</th>\n",
       "      <td>Me</td>\n",
       "      <td>That's what I like to hear lol</td>\n",
       "      <td>NaN</td>\n",
       "      <td>NaN</td>\n",
       "      <td>NaN</td>\n",
       "      <td>NaN</td>\n",
       "      <td>NaN</td>\n",
       "      <td>Sep 28, 2021</td>\n",
       "      <td>10:22:54 AM</td>\n",
       "      <td>(Read by them after 1 second)</td>\n",
       "      <td>1.0</td>\n",
       "      <td>2021-09-28 10:22:54</td>\n",
       "      <td>0 days 00:00:34</td>\n",
       "    </tr>\n",
       "  </tbody>\n",
       "</table>\n",
       "</div>"
      ]
     },
     "execution_count": 24,
     "metadata": {},
     "output_type": "execute_result"
    }
   ],
   "execution_count": 24
  },
  {
   "metadata": {
    "ExecuteTime": {
     "end_time": "2024-07-18T02:45:22.325234Z",
     "start_time": "2024-07-18T02:45:21.987931Z"
    }
   },
   "cell_type": "code",
   "source": [
    "converted_df = calc_df[['date', 'time']]\n",
    "converted_df = converted_df.assign(time=pd.to_datetime(converted_df['time'], format=\"%I:%M:%S %p\"))\n",
    "converted_df"
   ],
   "id": "bf43ac0cdcf1390d",
   "outputs": [
    {
     "data": {
      "text/plain": [
       "               date                time\n",
       "0      Sep 28, 2021 1900-01-01 10:21:18\n",
       "1      Sep 28, 2021 1900-01-01 10:21:30\n",
       "2      Sep 28, 2021 1900-01-01 10:21:46\n",
       "3      Sep 28, 2021 1900-01-01 10:22:20\n",
       "4      Sep 28, 2021 1900-01-01 10:22:54\n",
       "...             ...                 ...\n",
       "66157  Jun 26, 2024 1900-01-01 13:15:45\n",
       "66158  Jun 26, 2024 1900-01-01 13:19:20\n",
       "66159  Jun 26, 2024 1900-01-01 13:19:40\n",
       "66160  Jun 26, 2024 1900-01-01 13:26:12\n",
       "66161  Jun 26, 2024 1900-01-01 13:26:40\n",
       "\n",
       "[66162 rows x 2 columns]"
      ],
      "text/html": [
       "<div>\n",
       "<style scoped>\n",
       "    .dataframe tbody tr th:only-of-type {\n",
       "        vertical-align: middle;\n",
       "    }\n",
       "\n",
       "    .dataframe tbody tr th {\n",
       "        vertical-align: top;\n",
       "    }\n",
       "\n",
       "    .dataframe thead th {\n",
       "        text-align: right;\n",
       "    }\n",
       "</style>\n",
       "<table border=\"1\" class=\"dataframe\">\n",
       "  <thead>\n",
       "    <tr style=\"text-align: right;\">\n",
       "      <th></th>\n",
       "      <th>date</th>\n",
       "      <th>time</th>\n",
       "    </tr>\n",
       "  </thead>\n",
       "  <tbody>\n",
       "    <tr>\n",
       "      <th>0</th>\n",
       "      <td>Sep 28, 2021</td>\n",
       "      <td>1900-01-01 10:21:18</td>\n",
       "    </tr>\n",
       "    <tr>\n",
       "      <th>1</th>\n",
       "      <td>Sep 28, 2021</td>\n",
       "      <td>1900-01-01 10:21:30</td>\n",
       "    </tr>\n",
       "    <tr>\n",
       "      <th>2</th>\n",
       "      <td>Sep 28, 2021</td>\n",
       "      <td>1900-01-01 10:21:46</td>\n",
       "    </tr>\n",
       "    <tr>\n",
       "      <th>3</th>\n",
       "      <td>Sep 28, 2021</td>\n",
       "      <td>1900-01-01 10:22:20</td>\n",
       "    </tr>\n",
       "    <tr>\n",
       "      <th>4</th>\n",
       "      <td>Sep 28, 2021</td>\n",
       "      <td>1900-01-01 10:22:54</td>\n",
       "    </tr>\n",
       "    <tr>\n",
       "      <th>...</th>\n",
       "      <td>...</td>\n",
       "      <td>...</td>\n",
       "    </tr>\n",
       "    <tr>\n",
       "      <th>66157</th>\n",
       "      <td>Jun 26, 2024</td>\n",
       "      <td>1900-01-01 13:15:45</td>\n",
       "    </tr>\n",
       "    <tr>\n",
       "      <th>66158</th>\n",
       "      <td>Jun 26, 2024</td>\n",
       "      <td>1900-01-01 13:19:20</td>\n",
       "    </tr>\n",
       "    <tr>\n",
       "      <th>66159</th>\n",
       "      <td>Jun 26, 2024</td>\n",
       "      <td>1900-01-01 13:19:40</td>\n",
       "    </tr>\n",
       "    <tr>\n",
       "      <th>66160</th>\n",
       "      <td>Jun 26, 2024</td>\n",
       "      <td>1900-01-01 13:26:12</td>\n",
       "    </tr>\n",
       "    <tr>\n",
       "      <th>66161</th>\n",
       "      <td>Jun 26, 2024</td>\n",
       "      <td>1900-01-01 13:26:40</td>\n",
       "    </tr>\n",
       "  </tbody>\n",
       "</table>\n",
       "<p>66162 rows × 2 columns</p>\n",
       "</div>"
      ]
     },
     "execution_count": 25,
     "metadata": {},
     "output_type": "execute_result"
    }
   ],
   "execution_count": 25
  },
  {
   "metadata": {
    "ExecuteTime": {
     "end_time": "2024-07-18T02:45:22.389348Z",
     "start_time": "2024-07-18T02:45:22.327143Z"
    }
   },
   "cell_type": "code",
   "source": [
    "converted_df = converted_df.assign(day_of_week=pd.to_datetime(converted_df['date']).dt.day_name())\n",
    "converted_df"
   ],
   "id": "e96ad64b66c17ce6",
   "outputs": [
    {
     "data": {
      "text/plain": [
       "               date                time day_of_week\n",
       "0      Sep 28, 2021 1900-01-01 10:21:18     Tuesday\n",
       "1      Sep 28, 2021 1900-01-01 10:21:30     Tuesday\n",
       "2      Sep 28, 2021 1900-01-01 10:21:46     Tuesday\n",
       "3      Sep 28, 2021 1900-01-01 10:22:20     Tuesday\n",
       "4      Sep 28, 2021 1900-01-01 10:22:54     Tuesday\n",
       "...             ...                 ...         ...\n",
       "66157  Jun 26, 2024 1900-01-01 13:15:45   Wednesday\n",
       "66158  Jun 26, 2024 1900-01-01 13:19:20   Wednesday\n",
       "66159  Jun 26, 2024 1900-01-01 13:19:40   Wednesday\n",
       "66160  Jun 26, 2024 1900-01-01 13:26:12   Wednesday\n",
       "66161  Jun 26, 2024 1900-01-01 13:26:40   Wednesday\n",
       "\n",
       "[66162 rows x 3 columns]"
      ],
      "text/html": [
       "<div>\n",
       "<style scoped>\n",
       "    .dataframe tbody tr th:only-of-type {\n",
       "        vertical-align: middle;\n",
       "    }\n",
       "\n",
       "    .dataframe tbody tr th {\n",
       "        vertical-align: top;\n",
       "    }\n",
       "\n",
       "    .dataframe thead th {\n",
       "        text-align: right;\n",
       "    }\n",
       "</style>\n",
       "<table border=\"1\" class=\"dataframe\">\n",
       "  <thead>\n",
       "    <tr style=\"text-align: right;\">\n",
       "      <th></th>\n",
       "      <th>date</th>\n",
       "      <th>time</th>\n",
       "      <th>day_of_week</th>\n",
       "    </tr>\n",
       "  </thead>\n",
       "  <tbody>\n",
       "    <tr>\n",
       "      <th>0</th>\n",
       "      <td>Sep 28, 2021</td>\n",
       "      <td>1900-01-01 10:21:18</td>\n",
       "      <td>Tuesday</td>\n",
       "    </tr>\n",
       "    <tr>\n",
       "      <th>1</th>\n",
       "      <td>Sep 28, 2021</td>\n",
       "      <td>1900-01-01 10:21:30</td>\n",
       "      <td>Tuesday</td>\n",
       "    </tr>\n",
       "    <tr>\n",
       "      <th>2</th>\n",
       "      <td>Sep 28, 2021</td>\n",
       "      <td>1900-01-01 10:21:46</td>\n",
       "      <td>Tuesday</td>\n",
       "    </tr>\n",
       "    <tr>\n",
       "      <th>3</th>\n",
       "      <td>Sep 28, 2021</td>\n",
       "      <td>1900-01-01 10:22:20</td>\n",
       "      <td>Tuesday</td>\n",
       "    </tr>\n",
       "    <tr>\n",
       "      <th>4</th>\n",
       "      <td>Sep 28, 2021</td>\n",
       "      <td>1900-01-01 10:22:54</td>\n",
       "      <td>Tuesday</td>\n",
       "    </tr>\n",
       "    <tr>\n",
       "      <th>...</th>\n",
       "      <td>...</td>\n",
       "      <td>...</td>\n",
       "      <td>...</td>\n",
       "    </tr>\n",
       "    <tr>\n",
       "      <th>66157</th>\n",
       "      <td>Jun 26, 2024</td>\n",
       "      <td>1900-01-01 13:15:45</td>\n",
       "      <td>Wednesday</td>\n",
       "    </tr>\n",
       "    <tr>\n",
       "      <th>66158</th>\n",
       "      <td>Jun 26, 2024</td>\n",
       "      <td>1900-01-01 13:19:20</td>\n",
       "      <td>Wednesday</td>\n",
       "    </tr>\n",
       "    <tr>\n",
       "      <th>66159</th>\n",
       "      <td>Jun 26, 2024</td>\n",
       "      <td>1900-01-01 13:19:40</td>\n",
       "      <td>Wednesday</td>\n",
       "    </tr>\n",
       "    <tr>\n",
       "      <th>66160</th>\n",
       "      <td>Jun 26, 2024</td>\n",
       "      <td>1900-01-01 13:26:12</td>\n",
       "      <td>Wednesday</td>\n",
       "    </tr>\n",
       "    <tr>\n",
       "      <th>66161</th>\n",
       "      <td>Jun 26, 2024</td>\n",
       "      <td>1900-01-01 13:26:40</td>\n",
       "      <td>Wednesday</td>\n",
       "    </tr>\n",
       "  </tbody>\n",
       "</table>\n",
       "<p>66162 rows × 3 columns</p>\n",
       "</div>"
      ]
     },
     "execution_count": 26,
     "metadata": {},
     "output_type": "execute_result"
    }
   ],
   "execution_count": 26
  },
  {
   "metadata": {
    "ExecuteTime": {
     "end_time": "2024-07-18T02:45:22.437564Z",
     "start_time": "2024-07-18T02:45:22.392054Z"
    }
   },
   "cell_type": "code",
   "source": [
    "heatmap_df = converted_df[['time', 'day_of_week']]\n",
    "\n",
    "bins = [0, 3, 6, 9, 12, 15, 18, 21, 24]\n",
    "# labels = ['Early Morning', 'Morning', 'Afternoon', 'Late Night']\n",
    "labels = ['12AM-3AM', '3AM-6AM', '6AM-9AM', '9AM-12PM', '12PM-3PM', '3PM-6PM', '6PM-9PM', '9PM-12AM']\n",
    "heatmap_df['Time Bin'] = pd.cut(heatmap_df.time.dt.hour, bins, labels=labels, right=False)\n",
    "\n",
    "heatmap_df['Hour'] = heatmap_df['time'].dt.hour\n",
    "heatmap_df = heatmap_df[['day_of_week', 'Hour', 'Time Bin']]\n",
    "heatmap_df"
   ],
   "id": "22098f947e613533",
   "outputs": [
    {
     "data": {
      "text/plain": [
       "      day_of_week  Hour  Time Bin\n",
       "0         Tuesday    10  9AM-12PM\n",
       "1         Tuesday    10  9AM-12PM\n",
       "2         Tuesday    10  9AM-12PM\n",
       "3         Tuesday    10  9AM-12PM\n",
       "4         Tuesday    10  9AM-12PM\n",
       "...           ...   ...       ...\n",
       "66157   Wednesday    13  12PM-3PM\n",
       "66158   Wednesday    13  12PM-3PM\n",
       "66159   Wednesday    13  12PM-3PM\n",
       "66160   Wednesday    13  12PM-3PM\n",
       "66161   Wednesday    13  12PM-3PM\n",
       "\n",
       "[66162 rows x 3 columns]"
      ],
      "text/html": [
       "<div>\n",
       "<style scoped>\n",
       "    .dataframe tbody tr th:only-of-type {\n",
       "        vertical-align: middle;\n",
       "    }\n",
       "\n",
       "    .dataframe tbody tr th {\n",
       "        vertical-align: top;\n",
       "    }\n",
       "\n",
       "    .dataframe thead th {\n",
       "        text-align: right;\n",
       "    }\n",
       "</style>\n",
       "<table border=\"1\" class=\"dataframe\">\n",
       "  <thead>\n",
       "    <tr style=\"text-align: right;\">\n",
       "      <th></th>\n",
       "      <th>day_of_week</th>\n",
       "      <th>Hour</th>\n",
       "      <th>Time Bin</th>\n",
       "    </tr>\n",
       "  </thead>\n",
       "  <tbody>\n",
       "    <tr>\n",
       "      <th>0</th>\n",
       "      <td>Tuesday</td>\n",
       "      <td>10</td>\n",
       "      <td>9AM-12PM</td>\n",
       "    </tr>\n",
       "    <tr>\n",
       "      <th>1</th>\n",
       "      <td>Tuesday</td>\n",
       "      <td>10</td>\n",
       "      <td>9AM-12PM</td>\n",
       "    </tr>\n",
       "    <tr>\n",
       "      <th>2</th>\n",
       "      <td>Tuesday</td>\n",
       "      <td>10</td>\n",
       "      <td>9AM-12PM</td>\n",
       "    </tr>\n",
       "    <tr>\n",
       "      <th>3</th>\n",
       "      <td>Tuesday</td>\n",
       "      <td>10</td>\n",
       "      <td>9AM-12PM</td>\n",
       "    </tr>\n",
       "    <tr>\n",
       "      <th>4</th>\n",
       "      <td>Tuesday</td>\n",
       "      <td>10</td>\n",
       "      <td>9AM-12PM</td>\n",
       "    </tr>\n",
       "    <tr>\n",
       "      <th>...</th>\n",
       "      <td>...</td>\n",
       "      <td>...</td>\n",
       "      <td>...</td>\n",
       "    </tr>\n",
       "    <tr>\n",
       "      <th>66157</th>\n",
       "      <td>Wednesday</td>\n",
       "      <td>13</td>\n",
       "      <td>12PM-3PM</td>\n",
       "    </tr>\n",
       "    <tr>\n",
       "      <th>66158</th>\n",
       "      <td>Wednesday</td>\n",
       "      <td>13</td>\n",
       "      <td>12PM-3PM</td>\n",
       "    </tr>\n",
       "    <tr>\n",
       "      <th>66159</th>\n",
       "      <td>Wednesday</td>\n",
       "      <td>13</td>\n",
       "      <td>12PM-3PM</td>\n",
       "    </tr>\n",
       "    <tr>\n",
       "      <th>66160</th>\n",
       "      <td>Wednesday</td>\n",
       "      <td>13</td>\n",
       "      <td>12PM-3PM</td>\n",
       "    </tr>\n",
       "    <tr>\n",
       "      <th>66161</th>\n",
       "      <td>Wednesday</td>\n",
       "      <td>13</td>\n",
       "      <td>12PM-3PM</td>\n",
       "    </tr>\n",
       "  </tbody>\n",
       "</table>\n",
       "<p>66162 rows × 3 columns</p>\n",
       "</div>"
      ]
     },
     "execution_count": 27,
     "metadata": {},
     "output_type": "execute_result"
    }
   ],
   "execution_count": 27
  },
  {
   "metadata": {
    "ExecuteTime": {
     "end_time": "2024-07-18T02:45:23.597247Z",
     "start_time": "2024-07-18T02:45:22.439649Z"
    }
   },
   "cell_type": "code",
   "source": [
    "pivot = heatmap_df.pivot_table(index=\"day_of_week\", columns=\"Time Bin\", values=\"Hour\", aggfunc='count', observed=True)\n",
    "\n",
    "pivot.index = pd.CategoricalIndex(pivot.index, categories=['Sunday', 'Monday', 'Tuesday', 'Wednesday', 'Thursday', 'Friday', 'Saturday'])\n",
    "pivot.sort_index(level=0, inplace=True)\n",
    "\n",
    "ax = sns.heatmap(pivot, cmap=\"gnuplot\", cbar=False, linewidths=0.5, square=True)\n",
    "\n",
    "ax.set(xlabel='Time of Day', ylabel='Day of Week', title='Day of Week vs Time of Day Heatmap')\n",
    "plt.tight_layout()\n",
    "plt.savefig('images/day_of_week_heatmap.png')\n",
    "plt.show()"
   ],
   "id": "97350099fc81e583",
   "outputs": [
    {
     "data": {
      "text/plain": [
       "<Figure size 640x480 with 1 Axes>"
      ],
      "image/png": "[encoded data removed]"
     },
     "metadata": {},
     "output_type": "display_data"
    }
   ],
   "execution_count": 28
  },
  {
   "metadata": {},
   "cell_type": "markdown",
   "source": "# Heatmap of Month vs Year\n",
   "id": "d07eec0371578d94"
  },
  {
   "metadata": {
    "ExecuteTime": {
     "end_time": "2024-07-18T02:45:23.630340Z",
     "start_time": "2024-07-18T02:45:23.607586Z"
    }
   },
   "cell_type": "code",
   "source": [
    "mo_df = calc_df[['date', 'message']]\n",
    "mo_df"
   ],
   "id": "4ac91fa17cc60f3",
   "outputs": [
    {
     "data": {
      "text/plain": [
       "               date                                            message\n",
       "0      Sep 28, 2021                       You're coming tonight right?\n",
       "1      Sep 28, 2021                      yeah i think i'm going to lol\n",
       "2      Sep 28, 2021             You think?! Nah you're for sure coming\n",
       "3      Sep 28, 2021  wow peer pressure over here, geez guess i will go\n",
       "4      Sep 28, 2021                     That's what I like to hear lol\n",
       "...             ...                                                ...\n",
       "66157  Jun 26, 2024                       i think they'll go with ours\n",
       "66158  Jun 26, 2024                              I think they will too\n",
       "66159  Jun 26, 2024                                      it'll be cute\n",
       "66160  Jun 26, 2024                             & this one has poppies\n",
       "66161  Jun 26, 2024                                    i like this one\n",
       "\n",
       "[66162 rows x 2 columns]"
      ],
      "text/html": [
       "<div>\n",
       "<style scoped>\n",
       "    .dataframe tbody tr th:only-of-type {\n",
       "        vertical-align: middle;\n",
       "    }\n",
       "\n",
       "    .dataframe tbody tr th {\n",
       "        vertical-align: top;\n",
       "    }\n",
       "\n",
       "    .dataframe thead th {\n",
       "        text-align: right;\n",
       "    }\n",
       "</style>\n",
       "<table border=\"1\" class=\"dataframe\">\n",
       "  <thead>\n",
       "    <tr style=\"text-align: right;\">\n",
       "      <th></th>\n",
       "      <th>date</th>\n",
       "      <th>message</th>\n",
       "    </tr>\n",
       "  </thead>\n",
       "  <tbody>\n",
       "    <tr>\n",
       "      <th>0</th>\n",
       "      <td>Sep 28, 2021</td>\n",
       "      <td>You're coming tonight right?</td>\n",
       "    </tr>\n",
       "    <tr>\n",
       "      <th>1</th>\n",
       "      <td>Sep 28, 2021</td>\n",
       "      <td>yeah i think i'm going to lol</td>\n",
       "    </tr>\n",
       "    <tr>\n",
       "      <th>2</th>\n",
       "      <td>Sep 28, 2021</td>\n",
       "      <td>You think?! Nah you're for sure coming</td>\n",
       "    </tr>\n",
       "    <tr>\n",
       "      <th>3</th>\n",
       "      <td>Sep 28, 2021</td>\n",
       "      <td>wow peer pressure over here, geez guess i will go</td>\n",
       "    </tr>\n",
       "    <tr>\n",
       "      <th>4</th>\n",
       "      <td>Sep 28, 2021</td>\n",
       "      <td>That's what I like to hear lol</td>\n",
       "    </tr>\n",
       "    <tr>\n",
       "      <th>...</th>\n",
       "      <td>...</td>\n",
       "      <td>...</td>\n",
       "    </tr>\n",
       "    <tr>\n",
       "      <th>66157</th>\n",
       "      <td>Jun 26, 2024</td>\n",
       "      <td>i think they'll go with ours</td>\n",
       "    </tr>\n",
       "    <tr>\n",
       "      <th>66158</th>\n",
       "      <td>Jun 26, 2024</td>\n",
       "      <td>I think they will too</td>\n",
       "    </tr>\n",
       "    <tr>\n",
       "      <th>66159</th>\n",
       "      <td>Jun 26, 2024</td>\n",
       "      <td>it'll be cute</td>\n",
       "    </tr>\n",
       "    <tr>\n",
       "      <th>66160</th>\n",
       "      <td>Jun 26, 2024</td>\n",
       "      <td>&amp; this one has poppies</td>\n",
       "    </tr>\n",
       "    <tr>\n",
       "      <th>66161</th>\n",
       "      <td>Jun 26, 2024</td>\n",
       "      <td>i like this one</td>\n",
       "    </tr>\n",
       "  </tbody>\n",
       "</table>\n",
       "<p>66162 rows × 2 columns</p>\n",
       "</div>"
      ]
     },
     "execution_count": 29,
     "metadata": {},
     "output_type": "execute_result"
    }
   ],
   "execution_count": 29
  },
  {
   "metadata": {
    "ExecuteTime": {
     "end_time": "2024-07-18T02:45:23.793613Z",
     "start_time": "2024-07-18T02:45:23.634042Z"
    }
   },
   "cell_type": "code",
   "source": [
    "mo_df['month'] = pd.to_datetime(mo_df['date']).dt.month_name()\n",
    "mo_df['year'] = pd.to_datetime(mo_df['date']).dt.year\n",
    "mo_df"
   ],
   "id": "9e2c01637b86916c",
   "outputs": [
    {
     "name": "stderr",
     "output_type": "stream",
     "text": [
      "/var/folders/63/ft_13z3s7kj93h80hctc1lnm0000gn/T/ipykernel_769/2451291245.py:1: SettingWithCopyWarning: \n",
      "A value is trying to be set on a copy of a slice from a DataFrame.\n",
      "Try using .loc[row_indexer,col_indexer] = value instead\n",
      "\n",
      "See the caveats in the documentation: https://pandas.pydata.org/pandas-docs/stable/user_guide/indexing.html#returning-a-view-versus-a-copy\n",
      "  mo_df['month'] = pd.to_datetime(mo_df['date']).dt.month_name()\n",
      "/var/folders/63/ft_13z3s7kj93h80hctc1lnm0000gn/T/ipykernel_769/2451291245.py:2: SettingWithCopyWarning: \n",
      "A value is trying to be set on a copy of a slice from a DataFrame.\n",
      "Try using .loc[row_indexer,col_indexer] = value instead\n",
      "\n",
      "See the caveats in the documentation: https://pandas.pydata.org/pandas-docs/stable/user_guide/indexing.html#returning-a-view-versus-a-copy\n",
      "  mo_df['year'] = pd.to_datetime(mo_df['date']).dt.year\n"
     ]
    },
    {
     "data": {
      "text/plain": [
       "               date                                            message  \\\n",
       "0      Sep 28, 2021                       You're coming tonight right?   \n",
       "1      Sep 28, 2021                      yeah i think i'm going to lol   \n",
       "2      Sep 28, 2021             You think?! Nah you're for sure coming   \n",
       "3      Sep 28, 2021  wow peer pressure over here, geez guess i will go   \n",
       "4      Sep 28, 2021                     That's what I like to hear lol   \n",
       "...             ...                                                ...   \n",
       "66157  Jun 26, 2024                       i think they'll go with ours   \n",
       "66158  Jun 26, 2024                              I think they will too   \n",
       "66159  Jun 26, 2024                                      it'll be cute   \n",
       "66160  Jun 26, 2024                             & this one has poppies   \n",
       "66161  Jun 26, 2024                                    i like this one   \n",
       "\n",
       "           month  year  \n",
       "0      September  2021  \n",
       "1      September  2021  \n",
       "2      September  2021  \n",
       "3      September  2021  \n",
       "4      September  2021  \n",
       "...          ...   ...  \n",
       "66157       June  2024  \n",
       "66158       June  2024  \n",
       "66159       June  2024  \n",
       "66160       June  2024  \n",
       "66161       June  2024  \n",
       "\n",
       "[66162 rows x 4 columns]"
      ],
      "text/html": [
       "<div>\n",
       "<style scoped>\n",
       "    .dataframe tbody tr th:only-of-type {\n",
       "        vertical-align: middle;\n",
       "    }\n",
       "\n",
       "    .dataframe tbody tr th {\n",
       "        vertical-align: top;\n",
       "    }\n",
       "\n",
       "    .dataframe thead th {\n",
       "        text-align: right;\n",
       "    }\n",
       "</style>\n",
       "<table border=\"1\" class=\"dataframe\">\n",
       "  <thead>\n",
       "    <tr style=\"text-align: right;\">\n",
       "      <th></th>\n",
       "      <th>date</th>\n",
       "      <th>message</th>\n",
       "      <th>month</th>\n",
       "      <th>year</th>\n",
       "    </tr>\n",
       "  </thead>\n",
       "  <tbody>\n",
       "    <tr>\n",
       "      <th>0</th>\n",
       "      <td>Sep 28, 2021</td>\n",
       "      <td>You're coming tonight right?</td>\n",
       "      <td>September</td>\n",
       "      <td>2021</td>\n",
       "    </tr>\n",
       "    <tr>\n",
       "      <th>1</th>\n",
       "      <td>Sep 28, 2021</td>\n",
       "      <td>yeah i think i'm going to lol</td>\n",
       "      <td>September</td>\n",
       "      <td>2021</td>\n",
       "    </tr>\n",
       "    <tr>\n",
       "      <th>2</th>\n",
       "      <td>Sep 28, 2021</td>\n",
       "      <td>You think?! Nah you're for sure coming</td>\n",
       "      <td>September</td>\n",
       "      <td>2021</td>\n",
       "    </tr>\n",
       "    <tr>\n",
       "      <th>3</th>\n",
       "      <td>Sep 28, 2021</td>\n",
       "      <td>wow peer pressure over here, geez guess i will go</td>\n",
       "      <td>September</td>\n",
       "      <td>2021</td>\n",
       "    </tr>\n",
       "    <tr>\n",
       "      <th>4</th>\n",
       "      <td>Sep 28, 2021</td>\n",
       "      <td>That's what I like to hear lol</td>\n",
       "      <td>September</td>\n",
       "      <td>2021</td>\n",
       "    </tr>\n",
       "    <tr>\n",
       "      <th>...</th>\n",
       "      <td>...</td>\n",
       "      <td>...</td>\n",
       "      <td>...</td>\n",
       "      <td>...</td>\n",
       "    </tr>\n",
       "    <tr>\n",
       "      <th>66157</th>\n",
       "      <td>Jun 26, 2024</td>\n",
       "      <td>i think they'll go with ours</td>\n",
       "      <td>June</td>\n",
       "      <td>2024</td>\n",
       "    </tr>\n",
       "    <tr>\n",
       "      <th>66158</th>\n",
       "      <td>Jun 26, 2024</td>\n",
       "      <td>I think they will too</td>\n",
       "      <td>June</td>\n",
       "      <td>2024</td>\n",
       "    </tr>\n",
       "    <tr>\n",
       "      <th>66159</th>\n",
       "      <td>Jun 26, 2024</td>\n",
       "      <td>it'll be cute</td>\n",
       "      <td>June</td>\n",
       "      <td>2024</td>\n",
       "    </tr>\n",
       "    <tr>\n",
       "      <th>66160</th>\n",
       "      <td>Jun 26, 2024</td>\n",
       "      <td>&amp; this one has poppies</td>\n",
       "      <td>June</td>\n",
       "      <td>2024</td>\n",
       "    </tr>\n",
       "    <tr>\n",
       "      <th>66161</th>\n",
       "      <td>Jun 26, 2024</td>\n",
       "      <td>i like this one</td>\n",
       "      <td>June</td>\n",
       "      <td>2024</td>\n",
       "    </tr>\n",
       "  </tbody>\n",
       "</table>\n",
       "<p>66162 rows × 4 columns</p>\n",
       "</div>"
      ]
     },
     "execution_count": 30,
     "metadata": {},
     "output_type": "execute_result"
    }
   ],
   "execution_count": 30
  },
  {
   "metadata": {
    "ExecuteTime": {
     "end_time": "2024-07-18T02:45:23.814632Z",
     "start_time": "2024-07-18T02:45:23.796695Z"
    }
   },
   "cell_type": "code",
   "source": [
    "mo_df = mo_df[['month', 'year', 'message']]\n",
    "mo_df"
   ],
   "id": "25c1955021b14647",
   "outputs": [
    {
     "data": {
      "text/plain": [
       "           month  year                                            message\n",
       "0      September  2021                       You're coming tonight right?\n",
       "1      September  2021                      yeah i think i'm going to lol\n",
       "2      September  2021             You think?! Nah you're for sure coming\n",
       "3      September  2021  wow peer pressure over here, geez guess i will go\n",
       "4      September  2021                     That's what I like to hear lol\n",
       "...          ...   ...                                                ...\n",
       "66157       June  2024                       i think they'll go with ours\n",
       "66158       June  2024                              I think they will too\n",
       "66159       June  2024                                      it'll be cute\n",
       "66160       June  2024                             & this one has poppies\n",
       "66161       June  2024                                    i like this one\n",
       "\n",
       "[66162 rows x 3 columns]"
      ],
      "text/html": [
       "<div>\n",
       "<style scoped>\n",
       "    .dataframe tbody tr th:only-of-type {\n",
       "        vertical-align: middle;\n",
       "    }\n",
       "\n",
       "    .dataframe tbody tr th {\n",
       "        vertical-align: top;\n",
       "    }\n",
       "\n",
       "    .dataframe thead th {\n",
       "        text-align: right;\n",
       "    }\n",
       "</style>\n",
       "<table border=\"1\" class=\"dataframe\">\n",
       "  <thead>\n",
       "    <tr style=\"text-align: right;\">\n",
       "      <th></th>\n",
       "      <th>month</th>\n",
       "      <th>year</th>\n",
       "      <th>message</th>\n",
       "    </tr>\n",
       "  </thead>\n",
       "  <tbody>\n",
       "    <tr>\n",
       "      <th>0</th>\n",
       "      <td>September</td>\n",
       "      <td>2021</td>\n",
       "      <td>You're coming tonight right?</td>\n",
       "    </tr>\n",
       "    <tr>\n",
       "      <th>1</th>\n",
       "      <td>September</td>\n",
       "      <td>2021</td>\n",
       "      <td>yeah i think i'm going to lol</td>\n",
       "    </tr>\n",
       "    <tr>\n",
       "      <th>2</th>\n",
       "      <td>September</td>\n",
       "      <td>2021</td>\n",
       "      <td>You think?! Nah you're for sure coming</td>\n",
       "    </tr>\n",
       "    <tr>\n",
       "      <th>3</th>\n",
       "      <td>September</td>\n",
       "      <td>2021</td>\n",
       "      <td>wow peer pressure over here, geez guess i will go</td>\n",
       "    </tr>\n",
       "    <tr>\n",
       "      <th>4</th>\n",
       "      <td>September</td>\n",
       "      <td>2021</td>\n",
       "      <td>That's what I like to hear lol</td>\n",
       "    </tr>\n",
       "    <tr>\n",
       "      <th>...</th>\n",
       "      <td>...</td>\n",
       "      <td>...</td>\n",
       "      <td>...</td>\n",
       "    </tr>\n",
       "    <tr>\n",
       "      <th>66157</th>\n",
       "      <td>June</td>\n",
       "      <td>2024</td>\n",
       "      <td>i think they'll go with ours</td>\n",
       "    </tr>\n",
       "    <tr>\n",
       "      <th>66158</th>\n",
       "      <td>June</td>\n",
       "      <td>2024</td>\n",
       "      <td>I think they will too</td>\n",
       "    </tr>\n",
       "    <tr>\n",
       "      <th>66159</th>\n",
       "      <td>June</td>\n",
       "      <td>2024</td>\n",
       "      <td>it'll be cute</td>\n",
       "    </tr>\n",
       "    <tr>\n",
       "      <th>66160</th>\n",
       "      <td>June</td>\n",
       "      <td>2024</td>\n",
       "      <td>&amp; this one has poppies</td>\n",
       "    </tr>\n",
       "    <tr>\n",
       "      <th>66161</th>\n",
       "      <td>June</td>\n",
       "      <td>2024</td>\n",
       "      <td>i like this one</td>\n",
       "    </tr>\n",
       "  </tbody>\n",
       "</table>\n",
       "<p>66162 rows × 3 columns</p>\n",
       "</div>"
      ]
     },
     "execution_count": 31,
     "metadata": {},
     "output_type": "execute_result"
    }
   ],
   "execution_count": 31
  },
  {
   "metadata": {
    "ExecuteTime": {
     "end_time": "2024-07-18T02:45:25.023326Z",
     "start_time": "2024-07-18T02:45:23.819703Z"
    }
   },
   "cell_type": "code",
   "source": [
    "mo_pivot = mo_df.pivot_table(index='month', columns='year', values='message', aggfunc='count', observed=True)\n",
    "\n",
    "mo_pivot.index = pd.CategoricalIndex(mo_pivot.index, categories=['January', 'February', 'March', 'April', 'May', 'June', 'July', 'August', 'September', 'October', 'November', 'December'])\n",
    "mo_pivot.sort_index(level=0, inplace=True)\n",
    "\n",
    "ax = sns.heatmap(mo_pivot, cmap=\"gnuplot\", linewidths=0.5, square=False, annot=True, fmt='.2f')\n",
    "\n",
    "ax.set(xlabel='Year', ylabel='Month', title=\"Month Over Year Heatmap\")\n",
    "plt.tight_layout()\n",
    "plt.savefig('images/month_over_year_heatmap.png')\n",
    "plt.show()"
   ],
   "id": "b47549fe1ff9cca5",
   "outputs": [
    {
     "data": {
      "text/plain": [
       "<Figure size 640x480 with 2 Axes>"
      ],
      "image/png": "[encoded data removed]"
     },
     "metadata": {},
     "output_type": "display_data"
    }
   ],
   "execution_count": 32
  },
  {
   "metadata": {},
   "cell_type": "markdown",
   "source": "# Heatmap of Month vs Day",
   "id": "2a665d36789173fe"
  },
  {
   "metadata": {
    "ExecuteTime": {
     "end_time": "2024-07-18T02:45:25.056484Z",
     "start_time": "2024-07-18T02:45:25.032130Z"
    }
   },
   "cell_type": "code",
   "source": [
    "md_df = pd.DataFrame(calc_df['date'])\n",
    "md_df"
   ],
   "id": "b29856ad2c0a0a7",
   "outputs": [
    {
     "data": {
      "text/plain": [
       "               date\n",
       "0      Sep 28, 2021\n",
       "1      Sep 28, 2021\n",
       "2      Sep 28, 2021\n",
       "3      Sep 28, 2021\n",
       "4      Sep 28, 2021\n",
       "...             ...\n",
       "66157  Jun 26, 2024\n",
       "66158  Jun 26, 2024\n",
       "66159  Jun 26, 2024\n",
       "66160  Jun 26, 2024\n",
       "66161  Jun 26, 2024\n",
       "\n",
       "[66162 rows x 1 columns]"
      ],
      "text/html": [
       "<div>\n",
       "<style scoped>\n",
       "    .dataframe tbody tr th:only-of-type {\n",
       "        vertical-align: middle;\n",
       "    }\n",
       "\n",
       "    .dataframe tbody tr th {\n",
       "        vertical-align: top;\n",
       "    }\n",
       "\n",
       "    .dataframe thead th {\n",
       "        text-align: right;\n",
       "    }\n",
       "</style>\n",
       "<table border=\"1\" class=\"dataframe\">\n",
       "  <thead>\n",
       "    <tr style=\"text-align: right;\">\n",
       "      <th></th>\n",
       "      <th>date</th>\n",
       "    </tr>\n",
       "  </thead>\n",
       "  <tbody>\n",
       "    <tr>\n",
       "      <th>0</th>\n",
       "      <td>Sep 28, 2021</td>\n",
       "    </tr>\n",
       "    <tr>\n",
       "      <th>1</th>\n",
       "      <td>Sep 28, 2021</td>\n",
       "    </tr>\n",
       "    <tr>\n",
       "      <th>2</th>\n",
       "      <td>Sep 28, 2021</td>\n",
       "    </tr>\n",
       "    <tr>\n",
       "      <th>3</th>\n",
       "      <td>Sep 28, 2021</td>\n",
       "    </tr>\n",
       "    <tr>\n",
       "      <th>4</th>\n",
       "      <td>Sep 28, 2021</td>\n",
       "    </tr>\n",
       "    <tr>\n",
       "      <th>...</th>\n",
       "      <td>...</td>\n",
       "    </tr>\n",
       "    <tr>\n",
       "      <th>66157</th>\n",
       "      <td>Jun 26, 2024</td>\n",
       "    </tr>\n",
       "    <tr>\n",
       "      <th>66158</th>\n",
       "      <td>Jun 26, 2024</td>\n",
       "    </tr>\n",
       "    <tr>\n",
       "      <th>66159</th>\n",
       "      <td>Jun 26, 2024</td>\n",
       "    </tr>\n",
       "    <tr>\n",
       "      <th>66160</th>\n",
       "      <td>Jun 26, 2024</td>\n",
       "    </tr>\n",
       "    <tr>\n",
       "      <th>66161</th>\n",
       "      <td>Jun 26, 2024</td>\n",
       "    </tr>\n",
       "  </tbody>\n",
       "</table>\n",
       "<p>66162 rows × 1 columns</p>\n",
       "</div>"
      ]
     },
     "execution_count": 33,
     "metadata": {},
     "output_type": "execute_result"
    }
   ],
   "execution_count": 33
  },
  {
   "metadata": {
    "ExecuteTime": {
     "end_time": "2024-07-18T02:45:25.177636Z",
     "start_time": "2024-07-18T02:45:25.060044Z"
    }
   },
   "cell_type": "code",
   "source": [
    "md_df['month'] = pd.to_datetime(md_df['date']).dt.month_name()\n",
    "md_df['day_of_week'] = pd.to_datetime(md_df['date']).dt.day_name()\n",
    "md_df"
   ],
   "id": "8aaa0d7c549a8755",
   "outputs": [
    {
     "data": {
      "text/plain": [
       "               date      month day_of_week\n",
       "0      Sep 28, 2021  September     Tuesday\n",
       "1      Sep 28, 2021  September     Tuesday\n",
       "2      Sep 28, 2021  September     Tuesday\n",
       "3      Sep 28, 2021  September     Tuesday\n",
       "4      Sep 28, 2021  September     Tuesday\n",
       "...             ...        ...         ...\n",
       "66157  Jun 26, 2024       June   Wednesday\n",
       "66158  Jun 26, 2024       June   Wednesday\n",
       "66159  Jun 26, 2024       June   Wednesday\n",
       "66160  Jun 26, 2024       June   Wednesday\n",
       "66161  Jun 26, 2024       June   Wednesday\n",
       "\n",
       "[66162 rows x 3 columns]"
      ],
      "text/html": [
       "<div>\n",
       "<style scoped>\n",
       "    .dataframe tbody tr th:only-of-type {\n",
       "        vertical-align: middle;\n",
       "    }\n",
       "\n",
       "    .dataframe tbody tr th {\n",
       "        vertical-align: top;\n",
       "    }\n",
       "\n",
       "    .dataframe thead th {\n",
       "        text-align: right;\n",
       "    }\n",
       "</style>\n",
       "<table border=\"1\" class=\"dataframe\">\n",
       "  <thead>\n",
       "    <tr style=\"text-align: right;\">\n",
       "      <th></th>\n",
       "      <th>date</th>\n",
       "      <th>month</th>\n",
       "      <th>day_of_week</th>\n",
       "    </tr>\n",
       "  </thead>\n",
       "  <tbody>\n",
       "    <tr>\n",
       "      <th>0</th>\n",
       "      <td>Sep 28, 2021</td>\n",
       "      <td>September</td>\n",
       "      <td>Tuesday</td>\n",
       "    </tr>\n",
       "    <tr>\n",
       "      <th>1</th>\n",
       "      <td>Sep 28, 2021</td>\n",
       "      <td>September</td>\n",
       "      <td>Tuesday</td>\n",
       "    </tr>\n",
       "    <tr>\n",
       "      <th>2</th>\n",
       "      <td>Sep 28, 2021</td>\n",
       "      <td>September</td>\n",
       "      <td>Tuesday</td>\n",
       "    </tr>\n",
       "    <tr>\n",
       "      <th>3</th>\n",
       "      <td>Sep 28, 2021</td>\n",
       "      <td>September</td>\n",
       "      <td>Tuesday</td>\n",
       "    </tr>\n",
       "    <tr>\n",
       "      <th>4</th>\n",
       "      <td>Sep 28, 2021</td>\n",
       "      <td>September</td>\n",
       "      <td>Tuesday</td>\n",
       "    </tr>\n",
       "    <tr>\n",
       "      <th>...</th>\n",
       "      <td>...</td>\n",
       "      <td>...</td>\n",
       "      <td>...</td>\n",
       "    </tr>\n",
       "    <tr>\n",
       "      <th>66157</th>\n",
       "      <td>Jun 26, 2024</td>\n",
       "      <td>June</td>\n",
       "      <td>Wednesday</td>\n",
       "    </tr>\n",
       "    <tr>\n",
       "      <th>66158</th>\n",
       "      <td>Jun 26, 2024</td>\n",
       "      <td>June</td>\n",
       "      <td>Wednesday</td>\n",
       "    </tr>\n",
       "    <tr>\n",
       "      <th>66159</th>\n",
       "      <td>Jun 26, 2024</td>\n",
       "      <td>June</td>\n",
       "      <td>Wednesday</td>\n",
       "    </tr>\n",
       "    <tr>\n",
       "      <th>66160</th>\n",
       "      <td>Jun 26, 2024</td>\n",
       "      <td>June</td>\n",
       "      <td>Wednesday</td>\n",
       "    </tr>\n",
       "    <tr>\n",
       "      <th>66161</th>\n",
       "      <td>Jun 26, 2024</td>\n",
       "      <td>June</td>\n",
       "      <td>Wednesday</td>\n",
       "    </tr>\n",
       "  </tbody>\n",
       "</table>\n",
       "<p>66162 rows × 3 columns</p>\n",
       "</div>"
      ]
     },
     "execution_count": 34,
     "metadata": {},
     "output_type": "execute_result"
    }
   ],
   "execution_count": 34
  },
  {
   "metadata": {
    "ExecuteTime": {
     "end_time": "2024-07-18T02:45:26.873254Z",
     "start_time": "2024-07-18T02:45:25.180222Z"
    }
   },
   "cell_type": "code",
   "source": [
    "md_pivot = md_df.pivot_table(index='month', columns='day_of_week', values='date', aggfunc='count', observed=True)\n",
    "\n",
    "md_pivot.index = pd.CategoricalIndex(md_pivot.index, categories=['January', 'February', 'March', 'April', 'May', 'June', 'July', 'August', 'September', 'October', 'November', 'December'])\n",
    "md_pivot.sort_index(level=0, inplace=True)\n",
    "\n",
    "ax = sns.heatmap(md_pivot, cmap=\"gnuplot\", linewidths=0.5, square=False, annot=True, fmt='.2f')\n",
    "\n",
    "ax.set(xlabel='Day', ylabel='Month', title=\"Month Over Year Heatmap\")\n",
    "plt.tight_layout()\n",
    "plt.savefig('images/day_over_month_heatmap.png')\n",
    "plt.show()"
   ],
   "id": "607e045a74d9c1bb",
   "outputs": [
    {
     "data": {
      "text/plain": [
       "<Figure size 640x480 with 2 Axes>"
      ],
      "image/png": "[encoded data removed]"
     },
     "metadata": {},
     "output_type": "display_data"
    }
   ],
   "execution_count": 35
  },
  {
   "metadata": {
    "ExecuteTime": {
     "end_time": "2024-07-18T02:45:26.881529Z",
     "start_time": "2024-07-18T02:45:26.877610Z"
    }
   },
   "cell_type": "code",
   "source": "",
   "id": "ecb634dec3021b72",
   "outputs": [],
   "execution_count": 35
  }
 ],
 "metadata": {
  "kernelspec": {
   "display_name": "Python 3",
   "language": "python",
   "name": "python3"
  },
  "language_info": {
   "codemirror_mode": {
    "name": "ipython",
    "version": 2
   },
   "file_extension": ".py",
   "mimetype": "text/x-python",
   "name": "python",
   "nbconvert_exporter": "python",
   "pygments_lexer": "ipython2",
   "version": "2.7.6"
  }
 },
 "nbformat": 4,
 "nbformat_minor": 5
}
